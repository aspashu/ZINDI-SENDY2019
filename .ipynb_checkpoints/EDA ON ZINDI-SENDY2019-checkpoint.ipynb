{
 "cells": [
  {
   "cell_type": "markdown",
   "metadata": {},
   "source": [
    "<h4 Predicting the Estimated Time of Arrival for Bikes in Nairobi /h4>\n",
    "March 2020\n",
    "OVERVIEW\n",
    "Despite the continent offering tremendous opportunities, one of the biggest challenges is logistics. The complexity of this problem is because of the unique market and volatile economic drivers. \n",
    "Sendy, in partnership with insight2impact, is hosting a challenge on Zindi to predict the estimated time of delivery of orders, from the point of driver pickup to the point of arrival at the final destination. \n",
    "For this project, a training dataset from a subset of about 20,000 orders with bikes (“boda-boda”) in Nairobi is provided. This data is also anonymized. There’s also an additional GIS dataset that can be leveraged for this project. The description and link to this dataset can be seen here: Sendy Logistics Challenge\n",
    "For this project, we’re presented with the training set (with labels ETA), the test set, riders description and definitions of the variables. The data is anonymized to preserve sensitive information. "
   ]
  }
 ],
 "metadata": {
  "kernelspec": {
   "display_name": "",
   "name": ""
  },
  "language_info": {
   "name": ""
  }
 },
 "nbformat": 4,
 "nbformat_minor": 4
}
